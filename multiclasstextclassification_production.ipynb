{
 "cells": [
  {
   "cell_type": "code",
   "execution_count": 1,
   "metadata": {},
   "outputs": [
    {
     "name": "stdout",
     "output_type": "stream",
     "text": [
      "\n",
      " .----------------.  .----------------.\n",
      "| .--------------. || .--------------. |\n",
      "| |     ______   | || |  ____  ____  | |\n",
      "| |   .' ___  |  | || | |_  _||_  _| | |\n",
      "| |  / .'   \\_|  | || |   \\ \\  / /   | |\n",
      "| |  | |         | || |    > `' <    | |\n",
      "| |  \\ `.___.'\\  | || |  _/ /'`\\ \\_  | |\n",
      "| |   `._____.'  | || | |____||____| | |\n",
      "| |              | || |              | |\n",
      "| '--------------' || '--------------' |\n",
      " '----------------'  '----------------'\n",
      "\n",
      "../\n",
      "The input file name should be a.csv in same directory\n",
      "Reading CSV file..\n",
      "Read successful\n",
      "Removing null data..\n",
      "Input Sample\n",
      "                       comments Response Code\n",
      "0                 More coverage            B1\n",
      "1                Wider coverage            B2\n",
      "2              More 4G coverage            B3\n",
      "3           Extend 4G  coverage            B4\n",
      "4  More coverage in rural areas            B5\n",
      " _      _                            ____  __     __  ____ \n",
      "| |    (_) _ __    ___   __ _  _ __ / ___| \\ \\   / / / ___|\n",
      "| |    | || '_ \\  / _ \\ / _` || '__|\\___ \\  \\ \\ / / | |    \n",
      "| |___ | || | | ||  __/| (_| || |    ___) |  \\ V /  | |___ \n",
      "|_____||_||_| |_| \\___| \\__,_||_|   |____/    \\_/    \\____|\n",
      "                                                           \n",
      "\n",
      "Starting LinearSVC with TFIDF..\n",
      "---Prediction Complete.Total Execution Seconds 5.4185497760772705 seconds ---\n",
      "    \n",
      "Writing prediction to file with name \"prediction result.csv\"....\n",
      "Sample Prediction\n",
      "                       comments        predicted category\n",
      "0                 More coverage  MORE OFFERS AND SERVICES\n",
      "1                Wider coverage           IMPROVE NETWORK\n",
      "2              More 4G coverage            EXPAND NETWORK\n",
      "3           Extend 4G  coverage            EXPAND NETWORK\n",
      "4  More coverage in rural areas            EXPAND NETWORK\n",
      "  ____                           _        _         \n",
      " / ___|  ___   _ __ ___   _ __  | |  ___ | |_   ___ \n",
      "| |     / _ \\ | '_ ` _ \\ | '_ \\ | | / _ \\| __| / _ \\\n",
      "| |___ | (_) || | | | | || |_) || ||  __/| |_ |  __/\n",
      " \\____| \\___/ |_| |_| |_|| .__/ |_| \\___| \\__| \\___|\n",
      "                         |_|                        \n",
      "\n",
      "----------------------------------------------------\n",
      "Good day !\n",
      "----------------------------------------------------\n",
      "Writing to file complete.Press Enter to exit!\n"
     ]
    },
    {
     "data": {
      "text/plain": [
       "''"
      ]
     },
     "execution_count": 1,
     "metadata": {},
     "output_type": "execute_result"
    }
   ],
   "source": [
    "import pandas as pd\n",
    "from sklearn.externals import joblib\n",
    "from sklearn.feature_extraction.text import CountVectorizer\n",
    "import numpy as np\n",
    "from sklearn.feature_extraction.text import TfidfVectorizer\n",
    "import time\n",
    "from sklearn.svm import LinearSVC\n",
    "from sklearn.neighbors import typedefs\n",
    "from art import *\n",
    "import os\n",
    "import wikiquotes\n",
    "\n",
    "tprint(\"CX\",font=\"block\",chr_ignore=True)\n",
    "time.sleep(5)\n",
    "os.system('cls' if os.name=='nt' else 'clear')\n",
    "#Load file from path\n",
    "path = \"../\"\n",
    "print(path)\n",
    "\n",
    "path = \"C:/Users/suamatya/notebooks/matplotlib/\"\n",
    "\n",
    "print('The input file name should be a.csv in same directory')\n",
    "print('Reading CSV file..')\n",
    "\n",
    "df_tc = pd.read_csv(path+'a.csv',low_memory=False,encoding = \"ISO-8859-1\")\n",
    "print(\"Read successful\")\n",
    "#remove null data\n",
    "print('Removing null data..')\n",
    "df_tc.rename(columns={ df_tc.columns[0]: \"comments\" },inplace=True)\n",
    "df_tc = df_tc[df_tc['comments'].notnull()]\n",
    "print(\"Input Sample\")\n",
    "print(df_tc.head())\n",
    "#load models\n",
    "tprint(\"LinearSVC\",chr_ignore=True)\n",
    "print('Starting LinearSVC with TFIDF..')\n",
    "\n",
    "start_time = time.time()\n",
    "\n",
    "categoryid = np.load('categoryid.npy',allow_pickle=True).item() #dictionay for category mapping\n",
    "\n",
    "#text classification model\n",
    "model = joblib.load('multiclasstextclassification.pkl') #linearsvc\n",
    "tfidf = joblib.load('tfidf.pkl') #tfidf vectorizer\n",
    "\n",
    "features = tfidf.transform(df_tc['comments']).toarray() \n",
    "\n",
    "#predicting values\n",
    "df_tc['result'] = model.predict(features)\n",
    "df_tc['predicted category'] = df_tc['result'].apply(lambda x : categoryid[x] )\n",
    "print(\"---Prediction Complete.Total Execution Seconds %s seconds ---\" % (time.time() - start_time))\n",
    "print(\"    \")\n",
    "print(\"Writing prediction to file with name \\\"prediction result.csv\\\"....\")\n",
    "print(\"Sample Prediction\")\n",
    "print(df_tc[['comments','predicted category']].head())\n",
    "df_tc[['comments','predicted category']].to_csv(path+\"prediction result.csv\")\n",
    "tprint(\"Complete\",chr_ignore=True)\n",
    "print('----------------------------------------------------')\n",
    "try:\n",
    "    print(wikiquotes.quote_of_the_day(\"english\"))\n",
    "except:\n",
    "    print(\"Good day !\")\n",
    "print('----------------------------------------------------')\n",
    "input('Writing to file complete.Press Enter to exit!')"
   ]
  },
  {
   "cell_type": "code",
   "execution_count": null,
   "metadata": {},
   "outputs": [],
   "source": [
    "wikiquotes.random_quote(\"english\")"
   ]
  },
  {
   "cell_type": "code",
   "execution_count": null,
   "metadata": {},
   "outputs": [],
   "source": [
    "!jupyter nbconvert --to script multiclasstextclassification_production.ipynb"
   ]
  },
  {
   "cell_type": "code",
   "execution_count": null,
   "metadata": {},
   "outputs": [],
   "source": [
    "!pyinstaller classify_comments.py\n",
    "\n"
   ]
  },
  {
   "cell_type": "code",
   "execution_count": null,
   "metadata": {},
   "outputs": [],
   "source": [
    "import pathlib\n",
    "\n",
    "current_dir = pathlib.Path(__file__).parent\n",
    "current_file = pathlib.Path(__file__)"
   ]
  },
  {
   "cell_type": "code",
   "execution_count": null,
   "metadata": {},
   "outputs": [],
   "source": []
  }
 ],
 "metadata": {
  "kernelspec": {
   "display_name": "Python 3",
   "language": "python",
   "name": "python3"
  },
  "language_info": {
   "codemirror_mode": {
    "name": "ipython",
    "version": 3
   },
   "file_extension": ".py",
   "mimetype": "text/x-python",
   "name": "python",
   "nbconvert_exporter": "python",
   "pygments_lexer": "ipython3",
   "version": "3.6.5"
  }
 },
 "nbformat": 4,
 "nbformat_minor": 2
}
